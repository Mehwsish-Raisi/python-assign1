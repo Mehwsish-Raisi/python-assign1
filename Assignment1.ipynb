{
  "nbformat": 4,
  "nbformat_minor": 0,
  "metadata": {
    "colab": {
      "provenance": []
    },
    "kernelspec": {
      "name": "python3",
      "display_name": "Python 3"
    },
    "language_info": {
      "name": "python"
    }
  },
  "cells": [
    {
      "cell_type": "markdown",
      "source": [
        "# **Python Strings Assignment**"
      ],
      "metadata": {
        "id": "3IBKEYZc_CQG"
      }
    },
    {
      "cell_type": "markdown",
      "source": [
        "**Part 1: Understanding String Literals**\n"
      ],
      "metadata": {
        "id": "7F2Av-Mi_qrg"
      }
    },
    {
      "cell_type": "markdown",
      "source": [
        "1. Create three different strings using each type of quotation:"
      ],
      "metadata": {
        "id": "9LGoJa3kF1RP"
      }
    },
    {
      "cell_type": "code",
      "source": [
        "#Single quotes\n",
        "title1 = 'Hello World!'\n",
        "print(title1)\n",
        "\n",
        "#Double quotes\n",
        "title2 = \"Hello World!\"\n",
        "print(title2)\n",
        "\n",
        "#Triple quotes\n",
        "title3 = \"\"\"Hello World!\"\"\"\n",
        "print(title3)"
      ],
      "metadata": {
        "colab": {
          "base_uri": "https://localhost:8080/"
        },
        "id": "8HtxyWhiAC-5",
        "outputId": "e9a917aa-f084-4976-ac5c-02079ce2e679"
      },
      "execution_count": null,
      "outputs": [
        {
          "output_type": "stream",
          "name": "stdout",
          "text": [
            "Hello World!\n",
            "Hello World!\n",
            "Hello World!\n"
          ]
        }
      ]
    },
    {
      "cell_type": "markdown",
      "source": [
        "2. Explain in your own words. What is the advantage of each type of quotation?\n",
        "\n",
        "Single quotes: In single quotes, we can use double quotations in the sentence, e.g., I am a \"Web developer\".\n",
        "\n",
        "Double quotes: In double quotes, we can use apostrophes in the sentence, e.g., I'm a Web developer.\n",
        "\n",
        "Triple quotes: In triple quotes, we can write multiple lines of stings."
      ],
      "metadata": {
        "id": "1cD5xJ4QDPqe"
      }
    },
    {
      "cell_type": "markdown",
      "source": [
        "3. Write a string that contains both single and double quotes inside it.\n"
      ],
      "metadata": {
        "id": "fKxQw-cXF_IG"
      }
    },
    {
      "cell_type": "code",
      "source": [
        "message = \"She said, \\\"You\\'re a good girl.\\\"\"\n",
        "print(message)"
      ],
      "metadata": {
        "colab": {
          "base_uri": "https://localhost:8080/"
        },
        "id": "YBWKwaLtGNSA",
        "outputId": "4811aa0f-e9e8-4701-d681-fdbb2bd91ff3"
      },
      "execution_count": null,
      "outputs": [
        {
          "output_type": "stream",
          "name": "stdout",
          "text": [
            "She said, \"You're a good girl.\"\n"
          ]
        }
      ]
    },
    {
      "cell_type": "markdown",
      "source": [
        "4. Create a multi-line string using triple quotes that describes your favorite hobby."
      ],
      "metadata": {
        "id": "mMyxGSmsHin9"
      }
    },
    {
      "cell_type": "code",
      "source": [
        "message = \"\"\"I love to do painting. It's my go-to hobby when I'm bored.\n",
        "I also enjoy reading books and getting creative with crafts.\n",
        "It’s just so relaxing and fun!\n",
        "\"\"\"\n",
        "print(message)"
      ],
      "metadata": {
        "colab": {
          "base_uri": "https://localhost:8080/"
        },
        "id": "9UlcIuAkHoVT",
        "outputId": "85004a19-0c2a-498f-a4e4-4ad9949de95e"
      },
      "execution_count": null,
      "outputs": [
        {
          "output_type": "stream",
          "name": "stdout",
          "text": [
            "I love to do painting. It's my go-to hobby when I'm bored.\n",
            "I also enjoy reading books and getting creative with crafts.\n",
            "It’s just so relaxing and fun!\n",
            "\n"
          ]
        }
      ]
    },
    {
      "cell_type": "markdown",
      "source": [
        " **Part 2: String Methods Practice**\n",
        "1. Create a variable full_name with your full name (first and last name). Then write code\n",
        "to:\n"
      ],
      "metadata": {
        "id": "4LKTtpEfKFkJ"
      }
    },
    {
      "cell_type": "code",
      "source": [
        "first_name = 'Mehwish'\n",
        "last_name = 'Raisi'\n",
        "full_name = first_name + last_name\n",
        "\n",
        "# Print name in all uppercase\n",
        "print(full_name.upper())\n",
        "\n",
        "# Print name in all lowercase\n",
        "print(full_name.lower())\n",
        "\n",
        "# Print name with the first letter of each name capitalized\n",
        "print(full_name.title())\n"
      ],
      "metadata": {
        "id": "tpLIUzVuKvKS",
        "colab": {
          "base_uri": "https://localhost:8080/"
        },
        "outputId": "ce97957b-1174-442d-fd59-7eedb9ced365"
      },
      "execution_count": null,
      "outputs": [
        {
          "output_type": "stream",
          "name": "stdout",
          "text": [
            "MEHWISHRAISI\n",
            "mehwishraisi\n",
            "Mehwishraisi\n"
          ]
        }
      ]
    },
    {
      "cell_type": "markdown",
      "source": [
        "2. Create a variable messy_text = \" Python programming is fun! \" Then write code to:\n"
      ],
      "metadata": {
        "id": "iLbGMz_-68lj"
      }
    },
    {
      "cell_type": "code",
      "source": [
        "# Remove all the extra spaces at the beginning and end\n",
        "messy_text = ' Python programming is fun '\n",
        "correct_text = messy_text.strip()\n",
        "print(correct_text)\n",
        "\n",
        "# Replace \"fun\" with \"amazing\"\n",
        "messy_text = 'Python programming is fun'\n",
        "correct_text = messy_text.replace('fun', 'amazing')\n",
        "print(correct_text)\n",
        "\n",
        "# Count how many times the letter 'i' appears\n",
        "messy_text = 'Python programming is fun'\n",
        "count = messy_text.count('i')\n",
        "print(count)"
      ],
      "metadata": {
        "colab": {
          "base_uri": "https://localhost:8080/"
        },
        "id": "SD6OOkMQ7OYh",
        "outputId": "dc91e7e8-5ac1-409e-b652-fb0c7890b509"
      },
      "execution_count": null,
      "outputs": [
        {
          "output_type": "stream",
          "name": "stdout",
          "text": [
            "Python programming is fun\n",
            "Python programming is amazing\n",
            "2\n"
          ]
        }
      ]
    },
    {
      "cell_type": "markdown",
      "source": [
        "3. Create a variable sentence = \"The quick brown fox jumps over the lazy dog\"\n",
        "Then write code to:"
      ],
      "metadata": {
        "id": "XTZNOM0q_mzZ"
      }
    },
    {
      "cell_type": "code",
      "source": [
        "# Split this sentence into a list of words\n",
        "sentence = 'The quick brown fox jumps over the lazy dog'\n",
        "words = sentence.split(\" \")\n",
        "print(words)\n",
        "\n",
        "# Join the words back together with dashes between them\n",
        "sentence = 'The quick brown fox jumps over the lazy dog'\n",
        "print('-'.join(sentence))\n",
        "\n",
        "# Check if the sentence starts with \"The\"\n",
        "sentence = 'The quick brown fox jumps over the lazy dog'\n",
        "print(sentence.startswith('The'))\n",
        "\n",
        "# Find the position of the word \"fox\"\n",
        "sentence = 'The quick brown fox jumps over the lazy dog'\n",
        "print(sentence.find('fox'))"
      ],
      "metadata": {
        "colab": {
          "base_uri": "https://localhost:8080/"
        },
        "id": "RCY92UGB_obf",
        "outputId": "f2881261-e633-43cb-ab64-1d09a2d7bbd8"
      },
      "execution_count": null,
      "outputs": [
        {
          "output_type": "stream",
          "name": "stdout",
          "text": [
            "['The', 'quick', 'brown', 'fox', 'jumps', 'over', 'the', 'lazy', 'dog']\n",
            "T-h-e- -q-u-i-c-k- -b-r-o-w-n- -f-o-x- -j-u-m-p-s- -o-v-e-r- -t-h-e- -l-a-z-y- -d-o-g\n",
            "True\n",
            "16\n"
          ]
        }
      ]
    },
    {
      "cell_type": "markdown",
      "source": [
        "**Part 3: F-Strings**"
      ],
      "metadata": {
        "id": "43enyKT1HHFk"
      }
    },
    {
      "cell_type": "markdown",
      "source": [
        "1. Create variables for:"
      ],
      "metadata": {
        "id": "nH7YNzznHQaS"
      }
    },
    {
      "cell_type": "code",
      "source": [
        "my_name = \"Mehwish Raisi\"\n",
        "my_age = 25\n",
        "my_fav_lang = \"Python\"\n",
        "\n",
        "#Then use f-strings to create these sentences:\n",
        "print(f'My name is {my_name} and I am {my_age} years old' )\n",
        "print(f\"I enjoy programming in {my_fav_lang}, it's my favorite!\")\n",
        "print(f\"In 5 years, I will be {my_age + 5} years old\")\n"
      ],
      "metadata": {
        "colab": {
          "base_uri": "https://localhost:8080/"
        },
        "id": "Re0FF5vDHXf-",
        "outputId": "854ae4a6-df82-428e-aa8b-4f0849d80a1c"
      },
      "execution_count": 5,
      "outputs": [
        {
          "output_type": "stream",
          "name": "stdout",
          "text": [
            "My name is Mehwish Raisi and I am 25 years old\n",
            "I enjoy programming in Python, it's my favorite!\n",
            "In 5 years, I will be 30 years old\n"
          ]
        }
      ]
    },
    {
      "cell_type": "markdown",
      "source": [
        "**Part 4: Combining String Methods with F-Strings**"
      ],
      "metadata": {
        "id": "K3SNyoTXL727"
      }
    },
    {
      "cell_type": "code",
      "source": [
        "# # 1. Asks for user input about their first name, last name, and birth year\n",
        "first_name = input(\"Enter your first name: \")\n",
        "last_name = input(\"Enter your last name: \")\n",
        "birth = input('Enter your birth year: ')\n",
        "\n",
        "\n",
        "# 2. Uses string methods to properly capitalize their name\n",
        "first_name1 = first_name.capitalize()\n",
        "last_name2 = last_name.capitalize()\n",
        "\n",
        "print(first_name1)\n",
        "print(last_name2)\n",
        "first_last = f'{first_name1} {last_name2}'\n",
        "\n",
        "\n",
        "# Uses f-strings to create a profile message: \"Profile: {First Last}, Age: {calculated age},\n",
        "# Username: {first initial + last name + birth year}\"\n",
        "calculated_age = 2025 - int(birth)\n",
        "username = f'{first_name[0].lower()}{last_name.lower()}{birth}'\n",
        "\n",
        "print(f'Profile: {first_last},\\nAge: {calculated_age},\\nUsername: {username}')"
      ],
      "metadata": {
        "colab": {
          "base_uri": "https://localhost:8080/"
        },
        "id": "VtOqH6-cL_Ms",
        "outputId": "fc6adcab-eba7-43c8-8f42-83f4ac7009a8"
      },
      "execution_count": 21,
      "outputs": [
        {
          "output_type": "stream",
          "name": "stdout",
          "text": [
            "Enter your first name: mish\n",
            "Enter your last name: ra\n",
            "Enter your birth year: 1999\n",
            "Mish\n",
            "Ra\n",
            "Profile: Mish Ra,\n",
            "Age: 26,\n",
            "Username: mra1999\n"
          ]
        }
      ]
    }
  ]
}